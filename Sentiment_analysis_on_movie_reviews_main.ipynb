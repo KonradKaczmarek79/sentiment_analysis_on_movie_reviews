{
 "cells": [
  {
   "cell_type": "code",
   "execution_count": 1,
   "id": "086cb9ca-53d1-4f32-9a36-49de6114be25",
   "metadata": {},
   "outputs": [],
   "source": [
    "# ml libraries\n",
    "from sklearn.datasets import load_files\n",
    "from sklearn.feature_extraction.text import CountVectorizer\n",
    "import numpy as np\n",
    "\n",
    "# nlp libraries\n",
    "import nltk\n",
    "from nltk.corpus import stopwords\n",
    "import spacy\n",
    "\n",
    "import re\n",
    "import pickle\n",
    "\n",
    "from supporting_modules.text_cleaning import PATTERNS\n",
    "import supporting_modules.text_cleaning as stc\n",
    "import supporting_modules.data_visualization as sdv\n",
    "import supporting_modules.corpus_preprocessing as scp"
   ]
  },
  {
   "cell_type": "markdown",
   "id": "41746262-cfd8-4960-867a-2ea10e0dbc5f",
   "metadata": {},
   "source": [
    "# step 0: Load data from dataset\n",
    "\n",
    "Firstly, we need to load the dataset for further analysis. In this case, it will be the dataset named **\"Large Movie Review Dataset\"**. It is downloaded from https://ai.stanford.edu/~amaas/data/sentiment/\n",
    "\n",
    "The sentiment values in the text corpus from Stanford Dataset is either positive or negative. More info about these data is in `README` file. After loading, the data is of sklearn Bunch type, so we have to retrieve list of text data and numpy.ndarray with the labels.\n",
    "\n",
    "This data is not included in the project. To use them, you can download them from the mentioned website and then unpack them to the appropriate directory.\n",
    "\n",
    "In my case, the directory is one level above the project main direcotry."
   ]
  },
  {
   "cell_type": "markdown",
   "id": "cca6c703-0830-49a4-b37f-dd9f8ac6685b",
   "metadata": {},
   "source": [
    "### Required imports"
   ]
  },
  {
   "cell_type": "code",
   "execution_count": 2,
   "id": "7c48b330-c564-4ae5-9299-1abcd0daae86",
   "metadata": {},
   "outputs": [],
   "source": [
    "train_data = load_files(\"../datasets/aclImdb_v1/aclImdb/train\")\n",
    "test_data = load_files(\"../datasets/aclImdb_v1/aclImdb/test\")\n",
    "\n",
    "reviews_train, y_train = train_data.data, train_data.target\n",
    "reviews_test, y_test = test_data.data, test_data.target"
   ]
  },
  {
   "cell_type": "markdown",
   "id": "17b742a1",
   "metadata": {},
   "source": [
    "The types of each data element are listed below. As we can see the data are saved as bytes. The length of the training data set is equal to 75,000. In the README file, it was mentioned that the quantity of positive and negative reviews is equal to 50,000 (per 25,000 in training and test part accordingly). The difference equal to 50,000 is caused by data labeled as 'unsup'. This part of the data includes an additional 50,000 unlabeled documents for unsupervised learning.\n",
    "\n",
    "In the first part of the project, this data will not be needed. Therefore, they will be subtracted from the training pool (there is no data with this label in the test pool)."
   ]
  },
  {
   "cell_type": "code",
   "execution_count": 3,
   "id": "4657261f-72ee-477b-99d6-e0c28217bd6f",
   "metadata": {},
   "outputs": [
    {
     "name": "stdout",
     "output_type": "stream",
     "text": [
      "train_data data type: <class 'sklearn.utils._bunch.Bunch'>\n",
      "reviews_train type: <class 'list'>\n",
      "the type of single review: <class 'bytes'>\n",
      "reviews_test type: <class 'list'>\n",
      "text_train data length: 75000\n",
      "text_test data length: 25000\n"
     ]
    }
   ],
   "source": [
    "print(f\"train_data data type: {type(train_data)}\")\n",
    "print(f\"reviews_train type: {type(reviews_train)}\")\n",
    "print(f\"the type of single review: {type(reviews_train[0])}\")\n",
    "print(f\"reviews_test type: {type(reviews_test)}\")\n",
    "print(f\"text_train data length: {len(reviews_train)}\")\n",
    "print(f\"text_test data length: {len(reviews_test)}\")"
   ]
  },
  {
   "cell_type": "code",
   "execution_count": 4,
   "id": "b843ca5f",
   "metadata": {},
   "outputs": [
    {
     "name": "stdout",
     "output_type": "stream",
     "text": [
      "The proportions of the data distribution: [12500 12500 50000]\n",
      "Numeric values of labels: (array([0, 1, 2]), array([12500, 12500, 50000]))\n",
      "Label names: ['neg', 'pos', 'unsup']\n",
      "\n",
      "The proportions of the data distribution: [12500 12500]\n",
      "Numeric values of labels: (array([0, 1]), array([12500, 12500]))\n",
      "Label names: ['neg', 'pos']\n",
      "\n"
     ]
    }
   ],
   "source": [
    "# The data in the training set are distributed in the proportions of 12500, 12500, 50000\n",
    "# In next steps I remove those items that are 'unsup' \n",
    "\n",
    "print(f\"The proportions of the data distribution: {np.bincount(y_train)}\")\n",
    "print(f\"Numeric values of labels: {np.unique(y_train, return_counts=True)}\")\n",
    "print(f\"Label names: {train_data.target_names}\\n\")\n",
    "\n",
    "print(f\"The proportions of the data distribution: {np.bincount(y_test)}\")\n",
    "print(f\"Numeric values of labels: {np.unique(y_test, return_counts=True)}\")\n",
    "print(f\"Label names: {test_data.target_names}\\n\")"
   ]
  },
  {
   "cell_type": "code",
   "execution_count": 5,
   "id": "9812f91d-e7f8-4971-a929-2966c35b050b",
   "metadata": {},
   "outputs": [
    {
     "data": {
      "image/png": "[encoded data removed]",
      "text/plain": [
       "<Figure size 700x400 with 1 Axes>"
      ]
     },
     "metadata": {},
     "output_type": "display_data"
    }
   ],
   "source": [
    "sdv.count_per_label(np.bincount(y_train), ('Positive', 'Negative', 'Neutral'))"
   ]
  },
  {
   "cell_type": "code",
   "execution_count": 6,
   "id": "4b16219e-d37e-42ec-8d68-cb44ff01790e",
   "metadata": {},
   "outputs": [
    {
     "name": "stdout",
     "output_type": "stream",
     "text": [
      "POSITIVE REVIEW EXAMPLE:\n",
      " b\"Dan Katzir has produced a wonderful film that takes us on a roller-coaster ride through a real romance set in the troubles surrounding modern Israel.<br /><br />For anyone who's ever been in love, the film brings back the uncertainties, the insecurities and heartache that make love so bitter-sweet. The atmosphere of fear and isolation that came with the difficult times in Israel at that time just serve to intensify the feeling. Instantly, you are drawn in to Dan's plight, and you can't fail to be deeply moved.<br /><br />You can't write drama and passion like this - the contrast between the realities of Dan's desperate, snatched relationship with Iris, and the realities of a state in turmoil make this eminently watchable. If you have an ounce of passion, and have ever been in love, see this film.\" \n",
      "\n",
      " **************************************************************************************************** \n",
      "\n",
      "NEGATIVE REVIEW EXAMPLE:\n",
      " b\"This film comes as the ultimate disappointment in Tsai Ming-Liang for me. It oozes laziness from its every frame. So I'm not going to analyse it thoroughly either. But some observations:<br /><br />1. If the premise is drought, why we get to see city landscapes with blooming green trees? I wonder if that was supposed to mean something in the metaphorical context of the film (in which thirst notifies the craving for intimacy, and watermelon the trivial substitute, sex). Or it is only a matter of lousy film-making, not giving a damn about being coherent.<br /><br />2. We don't get to know what had happened to the porn actress, why she is unconscious or, presumably, dead. It seems a question of no importance as long as the message of supreme alienation is successfully (=bombastically) delivered, but in retrospect, her inert body proves to be a cheap dramaturgical gimmick, a pretext \\xc2\\x96 just as gratuitous and exploitative as the activity it is employed in.<br /><br />3. Nothing is expressed in this movie that Antonioni hadn't expressed better 40 years ago \\xc2\\x96 and without needlessly humiliating his actors.<br /><br />4. The musical numbers (recycled from 'The Hole') felt like a secondary-schooler's idea of artistic counterpointing, executed on that very secondary-school level of skill. If that was the point, the point sucked.\"\n"
     ]
    }
   ],
   "source": [
    "# lets see how the reviews looks like\n",
    "\n",
    "print(\"POSITIVE REVIEW EXAMPLE:\\n\".upper(), reviews_train[3], \"\\n\\n\", \"*\" * 100, \"\\n\")\n",
    "print(\"NEGATIVE REVIEW EXAMPLE:\\n\", reviews_train[126])"
   ]
  },
  {
   "cell_type": "markdown",
   "id": "dc2572a5",
   "metadata": {},
   "source": [
    "## Remove the data without labels\n",
    "\n",
    "The data are cleaned using function defined in `additional_modules/test_cleaning`. \n",
    "\n",
    "After this action we'll have balanced binary data in both datasets (training and test). The data after applying stc.clear_reviews_from_dataset() function looks like:"
   ]
  },
  {
   "cell_type": "code",
   "execution_count": 7,
   "id": "1dc9794c",
   "metadata": {},
   "outputs": [],
   "source": [
    "reviews_train_binary, y_train_binary = stc.clear_reviews_from_dataset(y_train, reviews_train)"
   ]
  },
  {
   "cell_type": "code",
   "execution_count": 8,
   "id": "ee5cbcc0",
   "metadata": {},
   "outputs": [
    {
     "name": "stdout",
     "output_type": "stream",
     "text": [
      "The proportions of the data distribution: [12500 12500]\n",
      "Numeric values of labels: (array([0, 1]), array([12500, 12500]))\n"
     ]
    }
   ],
   "source": [
    "# Our data after applying stc.clear_reviews_from_dataset() function\n",
    "\n",
    "print(f\"The proportions of the data distribution: {np.bincount(y_train_binary)}\")\n",
    "print(f\"Numeric values of labels: {np.unique(y_train_binary, return_counts=True)}\")"
   ]
  },
  {
   "cell_type": "code",
   "execution_count": 9,
   "id": "3334636c",
   "metadata": {},
   "outputs": [
    {
     "data": {
      "image/png": "[encoded data removed]",
      "text/plain": [
       "<Figure size 500x300 with 1 Axes>"
      ]
     },
     "metadata": {},
     "output_type": "display_data"
    }
   ],
   "source": [
    "sdv.count_per_label(np.bincount(y_train_binary), ('Positive', 'Negative', 'Neutral'))"
   ]
  },
  {
   "cell_type": "code",
   "execution_count": 10,
   "id": "61fe28c5-7883-46de-ab1e-039145676d4b",
   "metadata": {},
   "outputs": [
    {
     "data": {
      "image/png": "[encoded data removed]",
      "text/plain": [
       "<Figure size 500x300 with 1 Axes>"
      ]
     },
     "metadata": {},
     "output_type": "display_data"
    }
   ],
   "source": [
    "sdv.count_per_label(np.bincount(y_test), ('Positive', 'Negative', 'Neutral'))"
   ]
  },
  {
   "cell_type": "markdown",
   "id": "9ba5a8c3-c996-4120-aac5-a4a4b5c47204",
   "metadata": {},
   "source": [
    "Unique reviews in the both datastes:"
   ]
  },
  {
   "cell_type": "code",
   "execution_count": 11,
   "id": "5921fb2f-c373-4a70-ab28-5c33d436017c",
   "metadata": {},
   "outputs": [
    {
     "data": {
      "text/plain": [
       "(24904, 25000)"
      ]
     },
     "execution_count": 11,
     "metadata": {},
     "output_type": "execute_result"
    }
   ],
   "source": [
    "len(set(reviews_train_binary)), len(reviews_train_binary)"
   ]
  },
  {
   "cell_type": "code",
   "execution_count": 12,
   "id": "e6a58e64-768d-4c03-a82a-1b4efdf0401a",
   "metadata": {},
   "outputs": [
    {
     "data": {
      "text/plain": [
       "(24801, 25000)"
      ]
     },
     "execution_count": 12,
     "metadata": {},
     "output_type": "execute_result"
    }
   ],
   "source": [
    "len(set(reviews_test)), len(reviews_test)"
   ]
  },
  {
   "cell_type": "markdown",
   "id": "f1ab7125-0831-48f3-a424-5c0af951ba63",
   "metadata": {},
   "source": [
    "### Word quantity per review histograms\n",
    "\n",
    "Below there are the histograms for data before text cleaning. The most common length of reviews  is between (more-less) 70 and 700 words per text in both parts (train and test). In the next steps, the documents will be cleaned so these values will be decreased. "
   ]
  },
  {
   "cell_type": "code",
   "execution_count": 13,
   "id": "148e8d4f-cf79-4dcb-8aa4-ce5bea06190a",
   "metadata": {},
   "outputs": [
    {
     "data": {
      "image/png": "[encoded data removed]",
      "text/plain": [
       "<Figure size 1600x600 with 1 Axes>"
      ]
     },
     "metadata": {},
     "output_type": "display_data"
    }
   ],
   "source": [
    "word_counts = sdv.make_count_histogram(reviews_train_binary, 30)"
   ]
  },
  {
   "cell_type": "code",
   "execution_count": 14,
   "id": "2a0781a5-586d-41de-aa7e-cfa000e6e669",
   "metadata": {},
   "outputs": [
    {
     "name": "stdout",
     "output_type": "stream",
     "text": [
      "b\"I wouldn't rent this one even on dollar rental night.\"\n",
      "b'This movie is terrible but it has some good effects.'\n"
     ]
    }
   ],
   "source": [
    "# Two the shortest reviews in our train dataset\n",
    "\n",
    "for text in reviews_train_binary:\n",
    "    if len(text.split()) <= min(list(word_counts.keys())):\n",
    "        print(text)"
   ]
  },
  {
   "cell_type": "code",
   "execution_count": 15,
   "id": "97dfe282-ccf9-4335-8d40-344c242f5734",
   "metadata": {},
   "outputs": [
    {
     "data": {
      "image/png": "[encoded data removed]",
      "text/plain": [
       "<Figure size 1600x600 with 1 Axes>"
      ]
     },
     "metadata": {},
     "output_type": "display_data"
    }
   ],
   "source": [
    "word_counts = sdv.make_count_histogram(reviews_test, 30)"
   ]
  },
  {
   "cell_type": "code",
   "execution_count": 16,
   "id": "0764556f-cf5a-41a5-83a1-09328afff6ad",
   "metadata": {},
   "outputs": [
    {
     "name": "stdout",
     "output_type": "stream",
     "text": [
      "b'Primary plot!Primary direction!Poor interpretation.'\n"
     ]
    }
   ],
   "source": [
    "# Two the shortest reviews in our test dataset\n",
    "\n",
    "for text in reviews_test:\n",
    "    if len(text.split()) <= min(list(word_counts.keys())):\n",
    "        print(text)"
   ]
  },
  {
   "cell_type": "markdown",
   "id": "331c8e44",
   "metadata": {},
   "source": [
    "# step 1: Text data cleaning"
   ]
  },
  {
   "cell_type": "markdown",
   "id": "277b8eb7",
   "metadata": {},
   "source": [
    "## Convert all letters to lowercase\n",
    "\n",
    "In case of sentiment analysis in movie reviews convertion to the lowercase can be helpfull in the next steps like tokenization, stemming and so on. "
   ]
  },
  {
   "cell_type": "code",
   "execution_count": 17,
   "id": "1bc0162c",
   "metadata": {},
   "outputs": [],
   "source": [
    "reviews_train_binary = [review.lower() for review in reviews_train_binary]"
   ]
  },
  {
   "cell_type": "markdown",
   "id": "d83c1d87",
   "metadata": {},
   "source": [
    "### Checking if the text contains html tags\n",
    "\n",
    " Let's check if there are any HTML tags in our reviews and if so let's take a look at what they look like.\n",
    "The checking is made using the function **`get_occurance_in_dataset()`** defined in **`supporting_modules/text_cleaning`** (aliased as **`srt`** in this notebook). \n",
    "As it is visible below not all results are proper HTML tags some of them look like such elements but they aren't. For instance in the first returned we have open sign \"<\" directly behind this sign there's the space and the reguralar text data till the closing proper HTLM tag \\<br /\\> . Similar situation in the next three returned and the last one. The rest of returned values are proper or almost proper tags."
   ]
  },
  {
   "cell_type": "code",
   "execution_count": 18,
   "id": "23f601f1",
   "metadata": {},
   "outputs": [
    {
     "data": {
      "text/plain": [
       "{\"< $600 per screen its opening weekend, and just over $400 each, after its month's theater run in latter 2002. overall gross was $261k, which i'd doubt could cover cast and crew's hotel and food for a week on location.<br />\",\n",
       " '< and make notes for my partial \"review\" to show how foolish the movie is. \"resident evil\" (horror) or \"dude, where\\'s my car?\" (comedy) i can watch over and over again and still enjoy! but this...!<br />',\n",
       " '< than 30 minutes of watching, being bored and irritated. <br />',\n",
       " '< who was to be a victim, but woman-power trumps evil scientist every time.<br />',\n",
       " '</em>',\n",
       " '</i>',\n",
       " '</spoiler>',\n",
       " '<3 <br />',\n",
       " '<<<sigh>',\n",
       " '<=8.<br />',\n",
       " '<br />',\n",
       " '<em>',\n",
       " '<grin>',\n",
       " '<hr>',\n",
       " '<http://rogerebert.suntimes.com/apps/pbcs.dll/section?category=answerman>',\n",
       " '<i>',\n",
       " '<sp?) classic \"romeo & juliet\". guess i\\'ll have to rent that next.<br />',\n",
       " '<spoiler>'}"
      ]
     },
     "execution_count": 18,
     "metadata": {},
     "output_type": "execute_result"
    }
   ],
   "source": [
    "stc.get_occurance_in_dataset(reviews_train_binary)"
   ]
  },
  {
   "cell_type": "markdown",
   "id": "33ff5244",
   "metadata": {},
   "source": [
    "## Removal of html tags from the reviews\n",
    "\n",
    "Before removing the html tags, problematic fragments found as tags but which are not - should be taken into attention. In order to remove such elements - the replacement \"\\<sp\\\\?\\\\)|<+ \" by \"\" seems like a good idea - because we have in such cases either tags started with \"\\<\" + space or \"\\<sp?)\".\n",
    "\n",
    "After removing them, only tags and tag-like elements that look redundant will remain in the documents. Then these elements will be repraced by blank string. \n",
    "\n",
    "Both activities are performed using function **`clear_substr_in_texts()`** defined in **`supporting_modules/text_cleaning`** (aliased as **`srt`** in this notebook). \n",
    "\n"
   ]
  },
  {
   "cell_type": "code",
   "execution_count": 19,
   "id": "a765c598",
   "metadata": {},
   "outputs": [
    {
     "name": "stdout",
     "output_type": "stream",
     "text": [
      "\n",
      "REMOVED SUBSTRINGS SAMPLE:\n",
      " {'< ', '<<<<<<<<<<<< ', '<<<<<<<<<<<<<<<<<<<<<<<< ', '<<<<<<<<<<<<<<<<<<<< ', '<sp?)'}\n",
      "TAGS LEFT:\n",
      "{'<br />', '<=8.<br />', '<hr>', '<3 <br />', '<<<sigh>', '<grin>', '</i>', '<spoiler>', '<em>', '</em>', '<http://rogerebert.suntimes.com/apps/pbcs.dll/section?category=answerman>', '</spoiler>', '<i>'}\n"
     ]
    }
   ],
   "source": [
    "# remove tag-like elements from train data\n",
    "reviews_train_binary = stc.clear_substr_in_texts(reviews_train_binary, \\\n",
    "                                                 pattern=re.compile(r\"<sp\\?\\)|<+ \"))\n",
    "\n",
    "# show if tag-like element list looks ok\n",
    "print(\"TAGS LEFT:\")\n",
    "print(stc.get_occurance_in_dataset(reviews_train_binary))"
   ]
  },
  {
   "cell_type": "markdown",
   "id": "fcd83e89-0d14-4aa2-99b0-23a86f830f22",
   "metadata": {},
   "source": [
    "The occurrence of a tag containing at least one \"<\" character and a space occurs quite often, therefore both the regex for removing full HTML tags and those \"<+ \" (at least one < character followed by a space) will be added to the permanent PATTERNS dictionary in the module `supporting_modules/text_cleaning`. "
   ]
  },
  {
   "cell_type": "markdown",
   "id": "737b2e8d",
   "metadata": {},
   "source": [
    "### Remove HTML tags from train data\n",
    "\n",
    "Finally let's remove remaining tags and tags-like elements. "
   ]
  },
  {
   "cell_type": "code",
   "execution_count": 20,
   "id": "3a0f0e98",
   "metadata": {},
   "outputs": [
    {
     "name": "stdout",
     "output_type": "stream",
     "text": [
      "\n",
      "REMOVED SUBSTRINGS SAMPLE:\n",
      " {'<br />', '<=8.<br />', '<hr>', '<3 <br />', '<<<sigh>', '<grin>', '</i>', '<spoiler>', '<em>', '</em>', '<http://rogerebert.suntimes.com/apps/pbcs.dll/section?category=answerman>', '</spoiler>', '<i>'}\n",
      "TAGS LEFT:\n"
     ]
    },
    {
     "data": {
      "text/plain": [
       "0"
      ]
     },
     "execution_count": 20,
     "metadata": {},
     "output_type": "execute_result"
    }
   ],
   "source": [
    "reviews_train_binary = stc.clear_substr_in_texts(reviews_train_binary, \\\n",
    "                                                 pattern=PATTERNS['html_tags'])\n",
    "\n",
    "# show whether any tag-like elements remain\n",
    "print(\"TAGS LEFT:\")\n",
    "len(stc.get_occurance_in_dataset(reviews_train_binary))"
   ]
  },
  {
   "cell_type": "markdown",
   "id": "6901a295",
   "metadata": {},
   "source": [
    "## Remove http addresses from review content\n",
    "\n",
    "In order to deleting http links from review contents the same function as previously (**`clear_substr_in_texts()`**) is used with different pattern."
   ]
  },
  {
   "cell_type": "code",
   "execution_count": 21,
   "id": "046afb2f",
   "metadata": {},
   "outputs": [
    {
     "name": "stdout",
     "output_type": "stream",
     "text": [
      "\n",
      "REMOVED SUBSTRINGS SAMPLE:\n",
      " {'www.', 'http://'}\n"
     ]
    }
   ],
   "source": [
    "reviews_train_binary = stc.clear_substr_in_texts(reviews_train_binary, \n",
    "                                                 PATTERNS['http_addr'], \"\") "
   ]
  },
  {
   "cell_type": "markdown",
   "id": "f14b4a47",
   "metadata": {},
   "source": [
    "## Email addresses in the corups\n",
    "\n",
    "Now let's check if thre are any email addresses in our courpus. Such values (simiraly as the previously removed data) do not carry value related to feelings about the rated movies.\n",
    "\n",
    "But as you can see not all values that have the format similar to the email address is an email address indead. \n",
    "\n",
    "#### Check the train data"
   ]
  },
  {
   "cell_type": "code",
   "execution_count": 22,
   "id": "0e1030d1",
   "metadata": {},
   "outputs": [
    {
     "name": "stdout",
     "output_type": "stream",
     "text": [
      "{'co@k\",', 'dakota_loves_it@hot', '@#$%.\"', 'di@k', 'bits@midohio.net(new', 'bulls$@t,', 'kywildflower16@hotmail.com', 'mindf@ck', 'nfny40@yahoo.com', '%$@#', 'f#@k!ng', 'deusexmachina529@aol.com', 'vannoord@let.rug.nlthe', 'f@**', '&^@_+#!*', 'movie.deniselacey2000@yahoo.com', '$*@(%&', 's@*t', 'f#@k', '@*!^', 'bull!?#@', 'cartwrightbride@yahoo.com', '&*%#@#^', 'invinoveritas1@aol.com', 'iamaseal2@yahoo.com', 's@#t', '(bighouseaz@yahoo.com).', 'foxbarking@yahoo.com', '(sonarman65@yahoo.com)', '$^@%.', 'f@ckin', '#@$%#@$', '@', '\"&$*@$', 'tight-@ss', '$%&@', 'vannoord@let.rug.nl', 'darkangel_1627@yahoo.com.', '\"okul-d@bbe\"', 'f*@#', 'f@ck', 'f@#king', '@#$0&%!!\"', '*@$#', 'cr@p.', '\"f@g-hag\"', '@#%&', '@#$%!???\"', 's#@t.', '(daneldorado@yahoo.com)', '(jpieczanski@sidwell.edu)', 'l.swanberg@yahoo.com', 'dmd2222@verizon.net.i', '(whiteflokati@hotmail.com)', 'f^@ks', 'sh#¤@t!definitely', 'tawnyteel@yahoo.com', 'f#@%ing', '#%$@ers!!!', 'w@nk', 'w@nk.', '*@#%', 'f*@!', 'horsecoach4hire@hotmail.com?', '#@^!#', 'albany234@googlemail.com'}\n"
     ]
    }
   ],
   "source": [
    "print(stc.get_occurance_in_dataset(reviews_train_binary, PATTERNS['email_addr']))"
   ]
  },
  {
   "cell_type": "markdown",
   "id": "7f15a791",
   "metadata": {},
   "source": [
    "## Email regex format in the corups - conclusion\n",
    "\n",
    "Some of these strings that match the pattern that matches email addresses are actually disguised profanity. They certainly express emotions, but the percentage of such sequences in the entire corpus seems to be negligible.\n",
    "The **`corpus_docs_word_frequency()`** defined in **`supporting_modules/text_cleaning`** module was used to check. \n",
    "\n",
    "For comparison, 2 lighter \"obscene words\" were checked also as you can see they occur in the corpus. So those filled with characters like \"#%@$#@\" we can rather remove. They will not significantly affect the representation of these words in the data (the actual words of this type will be leave alone :-) ). So those data will be removed from both corpuses. "
   ]
  },
  {
   "cell_type": "code",
   "execution_count": 23,
   "id": "52fa31a4",
   "metadata": {},
   "outputs": [],
   "source": [
    "words_to_check = ('s#@t', 'f*@!',  'bull!?#@')\n",
    "words_to_check_2 = stc.rude_words"
   ]
  },
  {
   "cell_type": "code",
   "execution_count": 24,
   "id": "d1438832",
   "metadata": {},
   "outputs": [
    {
     "name": "stdout",
     "output_type": "stream",
     "text": [
      "Word 's#@t' occurs 1 times in the corpus.\n",
      "Word 's#@t' occurs in 1 documents.\n",
      "\n",
      "Word 'f*@!' occurs 1 times in the corpus.\n",
      "Word 'f*@!' occurs in 1 documents.\n",
      "\n",
      "Word 'bull!?#@' occurs 1 times in the corpus.\n",
      "Word 'bull!?#@' occurs in 1 documents.\n",
      "\n"
     ]
    }
   ],
   "source": [
    "stc.corpus_docs_word_frequency(reviews_train_binary, words_to_check)"
   ]
  },
  {
   "cell_type": "code",
   "execution_count": 25,
   "id": "c32ec757",
   "metadata": {},
   "outputs": [
    {
     "name": "stdout",
     "output_type": "stream",
     "text": [
      "Word 'sh#@%#' occurs 85 times in the corpus.\n",
      "Word 'sh#@%#' occurs in 71 documents.\n",
      "\n",
      "Word 'bu#@%#' occurs 23 times in the corpus.\n",
      "Word 'bu#@%#' occurs in 21 documents.\n",
      "\n",
      "Word 'da#@%#' occurs 461 times in the corpus.\n",
      "Word 'da#@%#' occurs in 421 documents.\n",
      "\n"
     ]
    }
   ],
   "source": [
    "stc.corpus_docs_word_frequency(reviews_train_binary, words_to_check_2)"
   ]
  },
  {
   "cell_type": "markdown",
   "id": "16db538b",
   "metadata": {},
   "source": [
    "### Clear reviews from substrings that have format similar to the email\n"
   ]
  },
  {
   "cell_type": "code",
   "execution_count": 26,
   "id": "32cc256f",
   "metadata": {},
   "outputs": [
    {
     "name": "stdout",
     "output_type": "stream",
     "text": [
      "\n",
      "REMOVED SUBSTRINGS SAMPLE:\n",
      " ['co@k\",', 'dakota_loves_it@hot', '@#$%.\"', 'di@k', 'bits@midohio.net(new', 'bulls$@t,', 'kywildflower16@hotmail.com', 'mindf@ck', 'nfny40@yahoo.com', '%$@#', 'f#@k!ng', 'deusexmachina529@aol.com', 'vannoord@let.rug.nlthe', 'f@**', '&^@_+#!*', 'movie.deniselacey2000@yahoo.com', '$*@(%&', 's@*t', 'f#@k', '@*!^']\n"
     ]
    }
   ],
   "source": [
    "reviews_train_binary = stc.clear_substr_in_texts(reviews_train_binary, \n",
    "                                                 PATTERNS['email_addr'], \"\", 20) "
   ]
  },
  {
   "cell_type": "markdown",
   "id": "404b9fbe",
   "metadata": {},
   "source": [
    "## Remove digits\n",
    "\n",
    "The numbers in  analized topic do not carry too much value, so they seem to be an element that can be removed. Of course, the movie rating can be a number, but in this case it's more of a sought-after label than what we want to have in the text."
   ]
  },
  {
   "cell_type": "code",
   "execution_count": 27,
   "id": "a92516d5",
   "metadata": {},
   "outputs": [
    {
     "name": "stdout",
     "output_type": "stream",
     "text": [
      "\n",
      "REMOVED SUBSTRINGS SAMPLE:\n",
      " ['7600', '002', '80', '498', '262', '170', '160', '201', '111', '203', '223', '91', '7212', '123', '330', '1956', '90210', '1824', '270', '222']\n"
     ]
    }
   ],
   "source": [
    "reviews_train_binary = stc.clear_substr_in_texts(reviews_train_binary, \n",
    "                                                 PATTERNS['digits'], \"\", 20) "
   ]
  },
  {
   "cell_type": "markdown",
   "id": "20cc6f70-27c2-48af-b379-e617f66fbedb",
   "metadata": {},
   "source": [
    "## Summary of the \"Text data cleaning\" step\n",
    "\n",
    "After completing this stage, the **`text_data_cleanup()`** function was created  for easier preprocessing new data in the same way (test data for example). It includes activities performed in the sub-sections of the \"Text data cleaning\" section. The function is saved in module **`supporting_modules/corpus_preprocessing`**\n",
    "\n",
    "It remains to clean the text of **punctuation marks**, but due to the \"stopwords\" problem described below (**Stopwords** section) - this activity will be done later.\n",
    "\n"
   ]
  },
  {
   "cell_type": "markdown",
   "id": "3cec2774-550a-4258-9ae4-b2618dd4035b",
   "metadata": {},
   "source": [
    "\n",
    "### Saving step as a pickle\n",
    "\n",
    "Because the data prepared in this step is ready for further processing maybe the good idea is to save it as a picle."
   ]
  },
  {
   "cell_type": "code",
   "execution_count": 28,
   "id": "9abde39a-0fbe-44c6-9a65-ff73f0728bf1",
   "metadata": {},
   "outputs": [],
   "source": [
    "# Path to the file\n",
    "output_file = \"../datasets/reviews_train_binary_step_1.pickle\"\n",
    "\n",
    "# save the corpus as a pickle\n",
    "with open(output_file, 'wb') as f:\n",
    "    pickle.dump(reviews_train_binary, f)"
   ]
  },
  {
   "cell_type": "markdown",
   "id": "53affd81-9167-4d34-9d81-363b894bd662",
   "metadata": {},
   "source": [
    "### Loading saved pickle\n",
    "\n",
    "If you start this jupyter notebook from here, load the imports from the beginning of the notebook and then run the cell below to get the preprocessed data:"
   ]
  },
  {
   "cell_type": "code",
   "execution_count": 29,
   "id": "988c7428-d572-4cca-bc45-38327ede2503",
   "metadata": {},
   "outputs": [],
   "source": [
    "# Load the data from pickle files\n",
    "\n",
    "input_file = \"../datasets/reviews_train_binary_step_1.pickle\"\n",
    "\n",
    "with open(input_file, 'rb') as f:\n",
    "    reviews_train_binary = pickle.load(f)"
   ]
  },
  {
   "cell_type": "markdown",
   "id": "1db27ab6-43c2-4b5f-90e9-57db762be2f2",
   "metadata": {},
   "source": [
    "# step 2: Further preprocessing of text data"
   ]
  },
  {
   "cell_type": "markdown",
   "id": "a6caeae2-84f0-4f0d-b5fb-e23fe45b7174",
   "metadata": {},
   "source": [
    "## Tokenization\n",
    "\n",
    "In this project `word_tokenize` from nltk library is used. It is a tokenizer based on `nltk.TreebankWordTokenizer`. Before applying it the text data will be possible the firstly download of required resources is needed. "
   ]
  },
  {
   "cell_type": "code",
   "execution_count": 30,
   "id": "f8efaef1-39c1-40e8-9ed0-572f80f250a1",
   "metadata": {},
   "outputs": [],
   "source": [
    "# nltk.download()\n",
    "# nltk.word_tokenize()"
   ]
  },
  {
   "cell_type": "markdown",
   "id": "5130f4f9-9c12-413a-9e64-3150f2a3efee",
   "metadata": {},
   "source": [
    "Before tokenization process let's take a look what the stopword list looks like and if it fits to considering problem. Tokenization will be done after this analysis is completed."
   ]
  },
  {
   "cell_type": "markdown",
   "id": "38dfd853-7db7-4df8-b99e-70938c52af45",
   "metadata": {},
   "source": [
    "## nltk stopword list\n",
    "\n",
    "Before removing stopwords (most common words with very small or none informative value) - let's see what words can we expect in such a collection. In this case one of most popular list of such words will be used `stopwords` from `nltk` library. "
   ]
  },
  {
   "cell_type": "code",
   "execution_count": 31,
   "id": "a0c188d1-305f-4d04-ba9f-13f62b068559",
   "metadata": {},
   "outputs": [
    {
     "name": "stdout",
     "output_type": "stream",
     "text": [
      "['i', 'me', 'my', 'myself', 'we', 'our', 'ours', 'ourselves', 'you', \"you're\", \"you've\", \"you'll\", \"you'd\", 'your', 'yours', 'yourself', 'yourselves', 'he', 'him', 'his', 'himself', 'she', \"she's\", 'her', 'hers', 'herself', 'it', \"it's\", 'its', 'itself', 'they', 'them', 'their', 'theirs', 'themselves', 'what', 'which', 'who', 'whom', 'this', 'that', \"that'll\", 'these', 'those', 'am', 'is', 'are', 'was', 'were', 'be', 'been', 'being', 'have', 'has', 'had', 'having', 'do', 'does', 'did', 'doing', 'a', 'an', 'the', 'and', 'but', 'if', 'or', 'because', 'as', 'until', 'while', 'of', 'at', 'by', 'for', 'with', 'about', 'against', 'between', 'into', 'through', 'during', 'before', 'after', 'above', 'below', 'to', 'from', 'up', 'down', 'in', 'out', 'on', 'off', 'over', 'under', 'again', 'further', 'then', 'once', 'here', 'there', 'when', 'where', 'why', 'how', 'all', 'any', 'both', 'each', 'few', 'more', 'most', 'other', 'some', 'such', 'no', 'nor', 'not', 'only', 'own', 'same', 'so', 'than', 'too', 'very', 's', 't', 'can', 'will', 'just', 'don', \"don't\", 'should', \"should've\", 'now', 'd', 'll', 'm', 'o', 're', 've', 'y', 'ain', 'aren', \"aren't\", 'couldn', \"couldn't\", 'didn', \"didn't\", 'doesn', \"doesn't\", 'hadn', \"hadn't\", 'hasn', \"hasn't\", 'haven', \"haven't\", 'isn', \"isn't\", 'ma', 'mightn', \"mightn't\", 'mustn', \"mustn't\", 'needn', \"needn't\", 'shan', \"shan't\", 'shouldn', \"shouldn't\", 'wasn', \"wasn't\", 'weren', \"weren't\", 'won', \"won't\", 'wouldn', \"wouldn't\"]\n"
     ]
    }
   ],
   "source": [
    "from nltk.corpus import stopwords\n",
    "\n",
    "stop_words_list = stopwords.words(\"english\")\n",
    "\n",
    "print(stop_words_list)"
   ]
  },
  {
   "cell_type": "markdown",
   "id": "a1093d5e-a520-479b-b512-e75fde3cd303",
   "metadata": {},
   "source": [
    "### note on stopwords analysis:\n",
    "\n",
    "As it is visible in the list above, some of the words are abbreviated form of negation (the shortcut for word \"not\"). In case of sentiment analysis such negations looks like important. For example senteces: \"The movie was good\" and \"The movie wasn't good\" after removing stopwords will look the same despite they inform about completely different opinion about movie. If such words would be removed perharps the some important information would be lost. "
   ]
  },
  {
   "cell_type": "code",
   "execution_count": 32,
   "id": "18b804ca-55e2-4ecd-b09e-ccae151abccd",
   "metadata": {},
   "outputs": [
    {
     "data": {
      "text/plain": [
       "(True, True, True, True)"
      ]
     },
     "execution_count": 32,
     "metadata": {},
     "output_type": "execute_result"
    }
   ],
   "source": [
    "\"was\" in stop_words_list, \"wasn't\" in stop_words_list, \"not\" in stop_words_list, \"no\" in stop_words_list"
   ]
  },
  {
   "cell_type": "markdown",
   "id": "8b47c243-888e-4ad6-9dbf-13a4d1be8fd5",
   "metadata": {},
   "source": [
    "Let's heck how many such words appears in stopwords list:"
   ]
  },
  {
   "cell_type": "code",
   "execution_count": 33,
   "id": "ab6a2053-2d84-42c2-8927-b45c29bca5b9",
   "metadata": {},
   "outputs": [
    {
     "name": "stdout",
     "output_type": "stream",
     "text": [
      "you're, you've, you'll, you'd, she's, it's, that'll, don't, should've, aren't, couldn't, didn't, doesn't, hadn't, hasn't, haven't, isn't, mightn't, mustn't, needn't, shan't, shouldn't, wasn't, weren't, won't, wouldn't, "
     ]
    }
   ],
   "source": [
    "for word in stop_words_list: \n",
    "    if \"'\" in word:\n",
    "        print(word, end=\", \")"
   ]
  },
  {
   "cell_type": "markdown",
   "id": "502ae30d-da8e-44f7-91c7-bbaa986ffb81",
   "metadata": {},
   "source": [
    "It looks that all words with suffix \"'t\" should be removed from stop words. Let's do this. \n",
    "\n",
    "First let's check words ending in 't or n (some words are abbreviations of bes 't, e.g. \"musn\"):"
   ]
  },
  {
   "cell_type": "code",
   "execution_count": 34,
   "id": "329cf91c-f517-43bc-9def-916a745ebd9b",
   "metadata": {},
   "outputs": [
    {
     "name": "stdout",
     "output_type": "stream",
     "text": [
      "['been', 'an', 'between', 'down', 'in', 'on', 'again', 'then', 'when', 'own', 'than', 'can', 'don', \"don't\", 'ain', 'aren', \"aren't\", 'couldn', \"couldn't\", 'didn', \"didn't\", 'doesn', \"doesn't\", 'hadn', \"hadn't\", 'hasn', \"hasn't\", 'haven', \"haven't\", 'isn', \"isn't\", 'mightn', \"mightn't\", 'mustn', \"mustn't\", 'needn', \"needn't\", 'shan', \"shan't\", 'shouldn', \"shouldn't\", 'wasn', \"wasn't\", 'weren', \"weren't\", 'won', \"won't\", 'wouldn', \"wouldn't\"]\n"
     ]
    }
   ],
   "source": [
    "not_for_remove = [ stopw for stopw in stop_words_list if stopw[-2:] == \"'t\" or stopw[-1] == \"n\"]\n",
    "print(not_for_remove)"
   ]
  },
  {
   "cell_type": "markdown",
   "id": "2d9ea38e-d263-44cb-a925-a5687cd7167e",
   "metadata": {},
   "source": [
    "### Stop words list customization\n",
    "\n",
    "The conditonal statement applied above is not prefect. Some words returned there are of course stop words that shoulen't be exclude but let's take returned list and erase them manually. The ***not_for_remove*** set after this action looks like below.\n",
    "\n",
    "Based on the previous stopwords, a new list was created that does not contain problematic negative words."
   ]
  },
  {
   "cell_type": "code",
   "execution_count": 35,
   "id": "3c5be6fd-4eaf-4079-8d44-a3a11318d0c4",
   "metadata": {},
   "outputs": [],
   "source": [
    "not_for_remove = ['don', \"don't\", 'ain', 'aren', \"aren't\", 'couldn', \"couldn't\", 'didn', \"didn't\", 'doesn', \"doesn't\", \n",
    "                  'hadn', \"hadn't\", 'hasn', \"hasn't\", 'haven', \"haven't\", 'isn', \"isn't\", 'mightn', \"mightn't\", 'mustn', \n",
    "                  \"mustn't\", 'needn', \"needn't\", 'shan', \"shan't\", 'shouldn', \"shouldn't\", 'wasn', \"wasn't\", \n",
    "                  'weren', \"weren't\", 'won', \"won't\", 'wouldn', \"wouldn't\"]"
   ]
  },
  {
   "cell_type": "markdown",
   "id": "4484b4ab-891b-4d3b-8f0d-9890ced3fce6",
   "metadata": {},
   "source": [
    "Now let's clear the stop_words_list of these words. "
   ]
  },
  {
   "cell_type": "code",
   "execution_count": 36,
   "id": "3f26269a-8df2-49d4-a3cb-4047230023c6",
   "metadata": {},
   "outputs": [
    {
     "name": "stdout",
     "output_type": "stream",
     "text": [
      "before: 179 with 37 not stopwords inside.\n",
      "after:  142\n"
     ]
    }
   ],
   "source": [
    "print(f\"before: {len(stop_words_list)} with {len(not_for_remove)} not stopwords inside.\" )\n",
    "\n",
    "# remove not stopwords\n",
    "stop_words_list = list(set(stop_words_list) - set(not_for_remove))\n",
    "\n",
    "print(\"after: \", len(stop_words_list))"
   ]
  },
  {
   "cell_type": "markdown",
   "id": "a993c4fc-083c-4e84-af7f-be890e6ea7c5",
   "metadata": {},
   "source": [
    "_____________________________________________________________________________________________________________\n",
    "\n",
    "\n",
    "The list of stopwords (**stop_words_list**) that will be used in the next steps is now prepared. It is saved in `supporting_modules/corpus_preprocessing` module. \n",
    "\n",
    "**Tokenization and deleting stopwords will be conducted once the negation words normalization will be done!**"
   ]
  },
  {
   "cell_type": "markdown",
   "id": "925aedf1-c984-4097-b25a-54fa7d1c3fb5",
   "metadata": {},
   "source": [
    "## Normalization (in the case of negations)\n",
    "\n",
    "### Explanation\n",
    "\n",
    "Below, in order to show how much data we could lose, a previously defined function was performed to check how often a given word occurs in the corpus and in how many documents. You can see that these are large numbers and it would not be good to lose such a large amount of information."
   ]
  },
  {
   "cell_type": "code",
   "execution_count": 37,
   "id": "0ce18ce6-46a3-4625-abd3-b0d161132bfc",
   "metadata": {},
   "outputs": [
    {
     "name": "stdout",
     "output_type": "stream",
     "text": [
      "Word 'don't' occurs 8457 times in the corpus.\n",
      "Word 'don't' occurs in 6276 documents.\n",
      "\n",
      "Word 'don ' occurs 972 times in the corpus.\n",
      "Word 'don ' occurs in 741 documents.\n",
      "\n",
      "Word 'do not' occurs 1213 times in the corpus.\n",
      "Word 'do not' occurs in 1070 documents.\n",
      "\n",
      "Word 'wasn't' occurs 2308 times in the corpus.\n",
      "Word 'wasn't' occurs in 1927 documents.\n",
      "\n",
      "Word 'weren't' occurs 491 times in the corpus.\n",
      "Word 'weren't' occurs in 461 documents.\n",
      "\n",
      "Word 'doesn't' occurs 4533 times in the corpus.\n",
      "Word 'doesn't' occurs in 3617 documents.\n",
      "\n",
      "Word 'ain't' occurs 174 times in the corpus.\n",
      "Word 'ain't' occurs in 164 documents.\n",
      "\n"
     ]
    }
   ],
   "source": [
    "# examples of words with not 't in reviews_train_binary corpus\n",
    "\n",
    "stc.corpus_docs_word_frequency(reviews_train_binary, [\"don't\", \"don \", \"do not\" , \"wasn't\", \"weren't\", \"doesn't\", \"ain't\"])"
   ]
  },
  {
   "cell_type": "markdown",
   "id": "3d2c0c28-5295-497f-9d3a-7bb38148aa6d",
   "metadata": {},
   "source": [
    "Firstly the list of values for replacement is created. Once it is done the list of keys (shortcut words that will be searched in corpus) should be fixed a little bit. I mean the words like: 'don', 'ain', 'aren' etc. The simple replacement these words in strings can damage our data because they can be a parts of words not always they will be the independent words with whitespaces before and after it. So it looks that the applying the regex will be good approach. It could be for example something like that: \n",
    "\n",
    "`re.compile(r\"\\b(?:don't|don|aren't|aren)\\b\")`\n",
    "\n",
    "So these two replacements will be conducted in two separate steps - replacement words with \"'t\" and then in second step rest of words from the list. \n",
    "\n"
   ]
  },
  {
   "cell_type": "markdown",
   "id": "d1830d4b-a78b-45e5-b73b-a924e3fea98a",
   "metadata": {},
   "source": [
    "\n",
    "### Replacement the words ends with \"'t\"\n",
    "\n",
    "A dictionary is created for these shortcuts and their full names. "
   ]
  },
  {
   "cell_type": "code",
   "execution_count": 38,
   "id": "b0d1c7c8-c02e-45ee-93d9-2df43f513009",
   "metadata": {},
   "outputs": [
    {
     "name": "stdout",
     "output_type": "stream",
     "text": [
      "{\"don't\": 'do not', \"aren't\": 'are not', \"couldn't\": 'could not', \"didn't\": 'did not', \"doesn't\": 'does not', \"hadn't\": 'had not', \"hasn't\": 'has not', \"haven't\": 'have not', \"isn't\": 'is not', \"mightn't\": 'might not', \"mustn't\": 'must not', \"needn't\": 'need not', \"shan't\": 'sha not', \"shouldn't\": 'should not', \"wasn't\": 'was not', \"weren't\": 'were not', \"won't\": 'wo not', \"wouldn't\": 'would not'}\n"
     ]
    }
   ],
   "source": [
    "# prepare values for the keys and create their translations\n",
    "\n",
    "shortcuts_for_translate_1 = {word: f\"{word[:-3]} not\" for word in not_for_remove if word[-2:] == \"'t\"}\n",
    "\n",
    "print(shortcuts_for_translate_1)"
   ]
  },
  {
   "cell_type": "markdown",
   "id": "db260911-b8e1-433c-b2ca-370c1a7cc8b1",
   "metadata": {},
   "source": [
    "------\n",
    "Now we need to translate these shortcuts in the corpus. The function `trnanslate_shortcuts()` is created in `supporting_modules/text_cleaning.py` module for this purpose. We need to create the regex pattern the dictionary and of course the corpus where the changes will be applied. The regex will be built using keys from passed dictionary. "
   ]
  },
  {
   "cell_type": "code",
   "execution_count": 39,
   "id": "4f6111a6-21a1-4538-8098-27e0d3184847",
   "metadata": {},
   "outputs": [
    {
     "name": "stdout",
     "output_type": "stream",
     "text": [
      "Applied pattern => \\b(?:don't|aren't|couldn't|didn't|doesn't|hadn't|hasn't|haven't|isn't|mightn't|mustn't|needn't|shan't|shouldn't|wasn't|weren't|won't|wouldn't)\\b\n"
     ]
    }
   ],
   "source": [
    "# translate the shortcuts with 't suffix \n",
    "\n",
    "reviews_train_binary = stc.translate_shortcuts(reviews_train_binary, shortcuts_for_translate_1)"
   ]
  },
  {
   "cell_type": "markdown",
   "id": "eb5bdd55-9eb4-459c-b716-3fd7df6e118b",
   "metadata": {},
   "source": [
    "### The remaining words to be changed\n",
    "\n",
    "Similar actions as in the case of the previous subgroup. In this case the additional replacement is needed because of these three words: \n",
    "\n",
    "-  shan = shan't =  shall not\n",
    "-  ain = ain't = am not, is not, are not, has not, have not => it will be replaced by \"not\"\n",
    "-  won = won't = will not"
   ]
  },
  {
   "cell_type": "code",
   "execution_count": 40,
   "id": "12c0e9b7-bb35-4f7c-8823-2df74281fade",
   "metadata": {},
   "outputs": [
    {
     "name": "stdout",
     "output_type": "stream",
     "text": [
      "{'don': 'do not', 'ain': 'not', 'aren': 'are not', 'couldn': 'could not', 'didn': 'did not', 'doesn': 'does not', 'hadn': 'had not', 'hasn': 'has not', 'haven': 'have not', 'isn': 'is not', 'mightn': 'might not', 'mustn': 'must not', 'needn': 'need not', 'shan': 'shall not', 'shouldn': 'should not', 'wasn': 'was not', 'weren': 'were not', 'won': 'will not', 'wouldn': 'would not'}\n"
     ]
    }
   ],
   "source": [
    "# prepare values for the keys and create their translations\n",
    "\n",
    "shortcuts_for_translate_2 = {word: f\"{word[:-1]} not\" for word in not_for_remove if word[-2:] != \"'t\"}\n",
    "\n",
    "shortcuts_for_translate_2['shan'] =  \"shall not\"\n",
    "shortcuts_for_translate_2['won'] =  \"will not\"\n",
    "shortcuts_for_translate_2['ain'] =  \"not\"\n",
    "\n",
    "print(shortcuts_for_translate_2)"
   ]
  },
  {
   "cell_type": "code",
   "execution_count": 41,
   "id": "bc7c2e0e-6623-46ec-9709-4cd6fc6fc4e6",
   "metadata": {},
   "outputs": [
    {
     "name": "stdout",
     "output_type": "stream",
     "text": [
      "Applied pattern => \\b(?:don|ain|aren|couldn|didn|doesn|hadn|hasn|haven|isn|mightn|mustn|needn|shan|shouldn|wasn|weren|won|wouldn)\\b\n"
     ]
    }
   ],
   "source": [
    "# translate the shortcuts without 't suffix \n",
    "\n",
    "reviews_train_binary = stc.translate_shortcuts(reviews_train_binary, shortcuts_for_translate_2)"
   ]
  },
  {
   "cell_type": "markdown",
   "id": "411c6fc9-5ea5-4da4-b7e5-02b8bff93bd2",
   "metadata": {},
   "source": [
    "-----\n",
    "\n",
    "Both dictionaries (with and without 't suffix) are added to the `supporting_modules/text_cleaning.py` module. This will be useful when preprocessing completely either new data or test data."
   ]
  },
  {
   "cell_type": "markdown",
   "id": "aafef4d2-4b91-46c4-a5cf-1ad914962e2a",
   "metadata": {},
   "source": [
    "## Removing punctuation\n",
    "\n",
    "This step is performed only at this point because characters of this type were needed in earlier stages for pattern matching. Also in the previous step, the apostrophe character was important, which is removed here.\n",
    "\n",
    "The punctuation marks in reviews seem to be removable without causing much damage. Reviews in the \"\" field are rather longer texts with a structure resembling, for example, articles, so emoticons will be found here to a small extent (it would be completely different if the data came from, for example, a tweeter where such substrings are important)."
   ]
  },
  {
   "cell_type": "code",
   "execution_count": 42,
   "id": "e8c3fd5c-5b26-463a-9606-663329329a20",
   "metadata": {},
   "outputs": [],
   "source": [
    "reviews_train_binary = [stc.clear_punctuation(review, None) for review in reviews_train_binary]"
   ]
  },
  {
   "cell_type": "markdown",
   "id": "7891e3d2-a677-48b0-b76b-99a610218ee6",
   "metadata": {},
   "source": [
    "## Tokenization and stopwords deletion\n",
    "\n",
    "Finally, it is possible to return to the tokenization stage and remove stopwords. A list previously adapted to the needs of this project will be used, based on a cleaned list from the nltk library."
   ]
  },
  {
   "cell_type": "code",
   "execution_count": 43,
   "id": "2886558a-6cca-4594-b84b-000800198575",
   "metadata": {
    "scrolled": true
   },
   "outputs": [],
   "source": [
    "reviews_train_binary = [nltk.word_tokenize(review) for review in reviews_train_binary]"
   ]
  },
  {
   "cell_type": "code",
   "execution_count": 44,
   "id": "64c6efae-ba1b-41da-86b7-45a2e0e371dd",
   "metadata": {},
   "outputs": [],
   "source": [
    "stop_words_list = scp.customized_stop_words\n",
    "reviews_train_binary = [\n",
    "            [word for word in review if word not in stop_words_list]\n",
    "            for review in reviews_train_binary\n",
    "           ]\n",
    "\n",
    "reviews_train_binary = [\" \".join(review) for review in reviews_train_binary]"
   ]
  },
  {
   "cell_type": "markdown",
   "id": "da4c3ba8-09c2-48e8-b11e-12de57afaff4",
   "metadata": {},
   "source": [
    "The quantity of words per single review is decreased now more lest 2 times."
   ]
  },
  {
   "cell_type": "code",
   "execution_count": 46,
   "id": "235bce6c-6a5e-49ae-bf4f-d5471a324fc2",
   "metadata": {},
   "outputs": [
    {
     "data": {
      "image/png": "[encoded data removed]",
      "text/plain": [
       "<Figure size 1600x600 with 1 Axes>"
      ]
     },
     "metadata": {},
     "output_type": "display_data"
    }
   ],
   "source": [
    "word_counts = sdv.make_count_histogram(reviews_train_binary, 30)"
   ]
  },
  {
   "cell_type": "markdown",
   "id": "c955dec0-11d6-466b-898f-aad342784336",
   "metadata": {},
   "source": [
    "\n",
    "### Saving step 2 as a pickle\n",
    "\n",
    "Because the data prepared in this step is ready for further processing it is saved as a picle as previously (end of step 1)."
   ]
  },
  {
   "cell_type": "code",
   "execution_count": 47,
   "id": "9d7ce9b2-f16f-455d-bb41-ebd033c52c5c",
   "metadata": {},
   "outputs": [],
   "source": [
    "# Path to the file\n",
    "output_file = \"../datasets/reviews_train_binary_step_2.pickle\"\n",
    "\n",
    "# save the corpus as a pickle\n",
    "with open(output_file, 'wb') as f:\n",
    "    pickle.dump(reviews_train_binary, f)"
   ]
  },
  {
   "cell_type": "markdown",
   "id": "3c9e0d19-c705-4610-96bd-4f16cca9d309",
   "metadata": {},
   "source": [
    "# step 3 Stemming and Lemmatization\n",
    "\n",
    "Stemming is rather most commodn approach in the case of english language. Lemmatization is more common in inflected languages (such as Polish) where getting words to the root doesn't work very well. Corpus lemmatization also takes longer than stemming, so it is used less often for that reason.\n",
    "\n",
    "So why am I also considering lemmatization instead of stemming here? I would like to check whether the opinion I have come across that the combination of these two methods can give good results. At the end of this subsection, 3 versions of the processed corpus will be saved:\n",
    "\n",
    "- after stemming only\n",
    "- after lemmatization only\n",
    "- afrer lemmatization and stemming together"
   ]
  },
  {
   "cell_type": "markdown",
   "id": "00a67142-52d6-47e2-8c6d-95db0a497e33",
   "metadata": {},
   "source": [
    "### optional substep - Loading saved pickle\n",
    "\n",
    "If you start this jupyter notebook from here, load the imports from the beginning section of the notebook and then run the cell below to get the preprocessed data:"
   ]
  },
  {
   "cell_type": "code",
   "execution_count": 48,
   "id": "b1d3247e-87b2-4fd7-9408-1d4256892cbe",
   "metadata": {},
   "outputs": [],
   "source": [
    "# Load the data from pickle files\n",
    "\n",
    "input_file = \"../datasets/reviews_train_binary_step_2.pickle\"\n",
    "\n",
    "with open(input_file, 'rb') as f:\n",
    "    reviews_train_binary = pickle.load(f)"
   ]
  },
  {
   "cell_type": "markdown",
   "id": "16d1a8ee-724f-4367-90b6-29276fee1d99",
   "metadata": {},
   "source": [
    "## Stemming\n",
    "\n",
    "`PorterStemmer()` is one way to do stemming - one of the most popular but there are others.\n",
    "Stemming in some cases, such as: \"integral\" (integral), \"integration\" (integration) will also bring them to the same stem - even though these are different words when analyzing texts consisting of thousands of words we accept that some small percentage will be collectively classified under the same core."
   ]
  },
  {
   "cell_type": "code",
   "execution_count": 49,
   "id": "95c27967-7786-48d6-829b-5f231d5168b7",
   "metadata": {},
   "outputs": [],
   "source": [
    "reviews_train_stemming = scp.lemm_stemm(reviews_train_binary)"
   ]
  },
  {
   "cell_type": "code",
   "execution_count": 50,
   "id": "a649a8e2-ec0d-460c-87fe-3b9e9c37c66e",
   "metadata": {},
   "outputs": [
    {
     "data": {
      "text/plain": [
       "'dan katzir produc wonder film take us rollercoast ride real romanc set troubl surround modern israelfor anyon who ever love film bring back uncertainti insecur heartach make love bittersweet atmospher fear isol came difficult time israel time serv intensifi feel instantli drawn dan plight cant fail deepli movedy cant write drama passion like contrast realiti dan desper snatch relationship iri realiti state turmoil make emin watchabl ounc passion ever love see film'"
      ]
     },
     "execution_count": 50,
     "metadata": {},
     "output_type": "execute_result"
    }
   ],
   "source": [
    "reviews_train_stemming[0]"
   ]
  },
  {
   "cell_type": "markdown",
   "id": "82292942-3548-4e7e-9028-fcc4bf72699a",
   "metadata": {},
   "source": [
    "## Lemmatization"
   ]
  },
  {
   "cell_type": "code",
   "execution_count": 51,
   "id": "442b545d-8f77-443c-98a6-e4899bf52d2b",
   "metadata": {},
   "outputs": [],
   "source": [
    "reviews_train_lemmatization = scp.lemm_stemm(reviews_train_binary, stemming=False, lemmatization=True)"
   ]
  },
  {
   "cell_type": "code",
   "execution_count": 52,
   "id": "c607f438-29eb-4383-8832-7ebd4fb7339b",
   "metadata": {},
   "outputs": [
    {
     "data": {
      "text/plain": [
       "'dan katzir produce wonderful film take we rollercoaster ride real romance set trouble surround modern israelfor anyone who s ever love film bring back uncertainty insecurity heartache make love bittersweet atmosphere fear isolation come difficult time israel time serve intensify feel instantly draw dan plight can not fail deeply movedyou can not write drama passion like contrast reality dan desperate snatch relationship iris realitie state turmoil make eminently watchable ounce passion ever love see film'"
      ]
     },
     "execution_count": 52,
     "metadata": {},
     "output_type": "execute_result"
    }
   ],
   "source": [
    "reviews_train_lemmatization[0]"
   ]
  },
  {
   "cell_type": "markdown",
   "id": "30970ae1-86cb-49fc-8eba-2df03adeb2c0",
   "metadata": {},
   "source": [
    "## Lemmatization + Stemming"
   ]
  },
  {
   "cell_type": "code",
   "execution_count": 55,
   "id": "5f46a4d8-eb47-488c-a3cf-da080ef080b6",
   "metadata": {},
   "outputs": [],
   "source": [
    "reviews_train_lemma_stemm = scp.lemm_stemm(reviews_train_lemmatization, stemming=True)"
   ]
  },
  {
   "cell_type": "code",
   "execution_count": 56,
   "id": "f292ffe7-6524-46a0-8db1-c8f98d645853",
   "metadata": {},
   "outputs": [
    {
     "data": {
      "text/plain": [
       "'dan katzir produc wonder film take we rollercoast ride real romanc set troubl surround modern israelfor anyon who s ever love film bring back uncertainti insecur heartach make love bittersweet atmospher fear isol come difficult time israel time serv intensifi feel instantli draw dan plight can not fail deepli movedy can not write drama passion like contrast realiti dan desper snatch relationship iri realiti state turmoil make emin watchabl ounc passion ever love see film'"
      ]
     },
     "execution_count": 56,
     "metadata": {},
     "output_type": "execute_result"
    }
   ],
   "source": [
    "reviews_train_lemma_stemm[0]"
   ]
  },
  {
   "cell_type": "markdown",
   "id": "33734be2-c61b-4502-84c9-d041230176c7",
   "metadata": {},
   "source": [
    "\n",
    "### Saving step 3 as a pickle\n",
    "\n",
    "Data transformations from this point took a long time. Lemmatization lasted the longest, which was expected. Stemming works faster and in cases where short data preparation time is important, it will be a natural choice.\n",
    "\n",
    "In order to be able to quickly reconstruct the results of this stage, as before, the record was made in the pickle format. It is particularly important to save data after lemmatization."
   ]
  },
  {
   "cell_type": "code",
   "execution_count": 60,
   "id": "22e3d0a0-9ded-403e-aa1c-454965089926",
   "metadata": {},
   "outputs": [],
   "source": [
    "# Path to the file\n",
    "output_file = \"../datasets/reviews_train_lemmatization_step_3.pickle\"\n",
    "\n",
    "# save the corpus as a pickle\n",
    "with open(output_file, 'wb') as f:\n",
    "    pickle.dump(reviews_train_lemmatization, f)\n",
    "\n",
    "# Path to the file\n",
    "output_file = \"../datasets/reviews_train_stemming_step_3.pickle\"\n",
    "\n",
    "# save the corpus as a pickle\n",
    "with open(output_file, 'wb') as f:\n",
    "    pickle.dump(reviews_train_stemming, f)\n",
    "\n",
    "# Path to the file\n",
    "output_file = \"../datasets/reviews_train_lemmatization_step_3.pickle\"\n",
    "\n",
    "# save the corpus as a pickle\n",
    "with open(output_file, 'wb') as f:\n",
    "    pickle.dump(reviews_train_lemma_stemm, f)"
   ]
  },
  {
   "cell_type": "markdown",
   "id": "142dba0b-a14f-488c-95cc-065390cf0fb9",
   "metadata": {},
   "source": [
    "# step 4: Conversion text data into tabular form"
   ]
  },
  {
   "cell_type": "markdown",
   "id": "2ffc5332-9f98-4618-8e49-22c4340b3d6a",
   "metadata": {},
   "source": [
    "### optional substep - Loading saved pickles\n",
    "\n",
    "If you start this jupyter notebook from here, load the imports from the beginning section of the notebook and then run the cell below to get the preprocessed data:"
   ]
  },
  {
   "cell_type": "code",
   "execution_count": 63,
   "id": "e3574ca0-ebbe-41b8-a1a6-44600617fcd7",
   "metadata": {},
   "outputs": [],
   "source": [
    "# Load the data from pickle files\n",
    "\n",
    "input_file = \"../datasets/reviews_train_stemming_step_3.pickle\"\n",
    "\n",
    "with open(input_file, 'rb') as f:\n",
    "    reviews_train_stemming_step_4 = pickle.load(f)\n",
    "\n",
    "\n",
    "input_file = \"../datasets/reviews_train_lemmatization_step_3.pickle\"\n",
    "\n",
    "with open(input_file, 'rb') as f:\n",
    "    reviews_train_lemmatization_step_4 = pickle.load(f)\n",
    "\n",
    "input_file = \"../datasets/reviews_train_lemmatization_step_3.pickle\"\n",
    "\n",
    "with open(input_file, 'rb') as f:\n",
    "    reviews_train_lemmatization_step_4 = pickle.load(f)"
   ]
  },
  {
   "cell_type": "markdown",
   "id": "a68a7c3e-2f5b-466b-a384-eba50516dafa",
   "metadata": {},
   "source": [
    "## Bag of words"
   ]
  },
  {
   "cell_type": "code",
   "execution_count": 61,
   "id": "4e580e42-59e5-4ea4-9c88-26d4ac8cf68d",
   "metadata": {},
   "outputs": [],
   "source": [
    "vectorizer = CountVectorizer()"
   ]
  },
  {
   "cell_type": "code",
   "execution_count": 64,
   "id": "10a680cd-caaf-45ab-ab93-71efd5726c89",
   "metadata": {},
   "outputs": [
    {
     "data": {
      "text/html": [
       "<style>#sk-container-id-1 {color: black;}#sk-container-id-1 pre{padding: 0;}#sk-container-id-1 div.sk-toggleable {background-color: white;}#sk-container-id-1 label.sk-toggleable__label {cursor: pointer;display: block;width: 100%;margin-bottom: 0;padding: 0.3em;box-sizing: border-box;text-align: center;}#sk-container-id-1 label.sk-toggleable__label-arrow:before {content: \"▸\";float: left;margin-right: 0.25em;color: #696969;}#sk-container-id-1 label.sk-toggleable__label-arrow:hover:before {color: black;}#sk-container-id-1 div.sk-estimator:hover label.sk-toggleable__label-arrow:before {color: black;}#sk-container-id-1 div.sk-toggleable__content {max-height: 0;max-width: 0;overflow: hidden;text-align: left;background-color: #f0f8ff;}#sk-container-id-1 div.sk-toggleable__content pre {margin: 0.2em;color: black;border-radius: 0.25em;background-color: #f0f8ff;}#sk-container-id-1 input.sk-toggleable__control:checked~div.sk-toggleable__content {max-height: 200px;max-width: 100%;overflow: auto;}#sk-container-id-1 input.sk-toggleable__control:checked~label.sk-toggleable__label-arrow:before {content: \"▾\";}#sk-container-id-1 div.sk-estimator input.sk-toggleable__control:checked~label.sk-toggleable__label {background-color: #d4ebff;}#sk-container-id-1 div.sk-label input.sk-toggleable__control:checked~label.sk-toggleable__label {background-color: #d4ebff;}#sk-container-id-1 input.sk-hidden--visually {border: 0;clip: rect(1px 1px 1px 1px);clip: rect(1px, 1px, 1px, 1px);height: 1px;margin: -1px;overflow: hidden;padding: 0;position: absolute;width: 1px;}#sk-container-id-1 div.sk-estimator {font-family: monospace;background-color: #f0f8ff;border: 1px dotted black;border-radius: 0.25em;box-sizing: border-box;margin-bottom: 0.5em;}#sk-container-id-1 div.sk-estimator:hover {background-color: #d4ebff;}#sk-container-id-1 div.sk-parallel-item::after {content: \"\";width: 100%;border-bottom: 1px solid gray;flex-grow: 1;}#sk-container-id-1 div.sk-label:hover label.sk-toggleable__label {background-color: #d4ebff;}#sk-container-id-1 div.sk-serial::before {content: \"\";position: absolute;border-left: 1px solid gray;box-sizing: border-box;top: 0;bottom: 0;left: 50%;z-index: 0;}#sk-container-id-1 div.sk-serial {display: flex;flex-direction: column;align-items: center;background-color: white;padding-right: 0.2em;padding-left: 0.2em;position: relative;}#sk-container-id-1 div.sk-item {position: relative;z-index: 1;}#sk-container-id-1 div.sk-parallel {display: flex;align-items: stretch;justify-content: center;background-color: white;position: relative;}#sk-container-id-1 div.sk-item::before, #sk-container-id-1 div.sk-parallel-item::before {content: \"\";position: absolute;border-left: 1px solid gray;box-sizing: border-box;top: 0;bottom: 0;left: 50%;z-index: -1;}#sk-container-id-1 div.sk-parallel-item {display: flex;flex-direction: column;z-index: 1;position: relative;background-color: white;}#sk-container-id-1 div.sk-parallel-item:first-child::after {align-self: flex-end;width: 50%;}#sk-container-id-1 div.sk-parallel-item:last-child::after {align-self: flex-start;width: 50%;}#sk-container-id-1 div.sk-parallel-item:only-child::after {width: 0;}#sk-container-id-1 div.sk-dashed-wrapped {border: 1px dashed gray;margin: 0 0.4em 0.5em 0.4em;box-sizing: border-box;padding-bottom: 0.4em;background-color: white;}#sk-container-id-1 div.sk-label label {font-family: monospace;font-weight: bold;display: inline-block;line-height: 1.2em;}#sk-container-id-1 div.sk-label-container {text-align: center;}#sk-container-id-1 div.sk-container {/* jupyter's `normalize.less` sets `[hidden] { display: none; }` but bootstrap.min.css set `[hidden] { display: none !important; }` so we also need the `!important` here to be able to override the default hidden behavior on the sphinx rendered scikit-learn.org. See: https://github.com/scikit-learn/scikit-learn/issues/21755 */display: inline-block !important;position: relative;}#sk-container-id-1 div.sk-text-repr-fallback {display: none;}</style><div id=\"sk-container-id-1\" class=\"sk-top-container\"><div class=\"sk-text-repr-fallback\"><pre>CountVectorizer()</pre><b>In a Jupyter environment, please rerun this cell to show the HTML representation or trust the notebook. <br />On GitHub, the HTML representation is unable to render, please try loading this page with nbviewer.org.</b></div><div class=\"sk-container\" hidden><div class=\"sk-item\"><div class=\"sk-estimator sk-toggleable\"><input class=\"sk-toggleable__control sk-hidden--visually\" id=\"sk-estimator-id-1\" type=\"checkbox\" checked><label for=\"sk-estimator-id-1\" class=\"sk-toggleable__label sk-toggleable__label-arrow\">CountVectorizer</label><div class=\"sk-toggleable__content\"><pre>CountVectorizer()</pre></div></div></div></div></div>"
      ],
      "text/plain": [
       "CountVectorizer()"
      ]
     },
     "execution_count": 64,
     "metadata": {},
     "output_type": "execute_result"
    }
   ],
   "source": [
    "vectorizer.fit(reviews_train_stemming_step_4)"
   ]
  },
  {
   "cell_type": "code",
   "execution_count": 65,
   "id": "f612fb61-cb7d-4ef8-946f-e7da8194e064",
   "metadata": {},
   "outputs": [
    {
     "data": {
      "text/plain": [
       "108737"
      ]
     },
     "execution_count": 65,
     "metadata": {},
     "output_type": "execute_result"
    }
   ],
   "source": [
    "# word frequency matrix will have 108737 columns (i.e. words in the dictionary)\n",
    "\n",
    "len(vectorizer.vocabularby_)"
   ]
  },
  {
   "cell_type": "code",
   "execution_count": null,
   "id": "afae0c04-76fc-46b8-b867-1c1e8dcb9614",
   "metadata": {},
   "outputs": [],
   "source": [
    "# (...) to be continued"
   ]
  },
  {
   "cell_type": "markdown",
   "id": "61009df8-5ea8-479e-b344-00df0c9c4de7",
   "metadata": {},
   "source": [
    "#### Test data preprocessing\n",
    "\n",
    "Preprocessing is conducted using methods defined after current step and the previows one. Both are defined in `supporting_modules/corpus_preprocessing`. Below run for testing purposes. "
   ]
  },
  {
   "cell_type": "code",
   "execution_count": 58,
   "id": "fe3824fa-f4f7-4511-bf16-1827527c7dd9",
   "metadata": {
    "scrolled": true
   },
   "outputs": [
    {
     "name": "stdout",
     "output_type": "stream",
     "text": [
      "Applied pattern => \\b(?:don't|aren't|couldn't|didn't|doesn't|hadn't|hasn't|haven't|isn't|mightn't|mustn't|needn't|shan't|shouldn't|wasn't|weren't|won't|wouldn't)\\b\n",
      "Applied pattern => \\b(?:don|ain|aren|couldn|didn|doesn|hadn|hasn|haven|isn|mightn|mustn|needn|shan|shouldn|wasn|weren|won|wouldn)\\b\n",
      "hate heather graham shes beautiful hate shes fun watch movie like hip clothing funky surroundings actors flick work well together casey affleck hysterical heather graham literally lights screen minor characters goran visnjic sigh patricia velazquez talented gorgeous congratulations miramax director lisa krueger\n"
     ]
    }
   ],
   "source": [
    "# test the corpus preprocessing functions\n",
    "\n",
    "reviews_test_test = scp.text_data_cleanup(reviews_test, get_info=True)\n",
    "\n",
    "reviews_test_test = scp.preprocess_corpus(reviews_test_test)\n",
    "\n",
    "print(reviews_test_test[0])"
   ]
  },
  {
   "cell_type": "code",
   "execution_count": null,
   "id": "457c9861-e5bf-4c80-ad74-33d2c4f75e62",
   "metadata": {},
   "outputs": [],
   "source": [
    "\n",
    "\n",
    "\n"
   ]
  }
 ],
 "metadata": {
  "kernelspec": {
   "display_name": "Python 3 (ipykernel)",
   "language": "python",
   "name": "python3"
  },
  "language_info": {
   "codemirror_mode": {
    "name": "ipython",
    "version": 3
   },
   "file_extension": ".py",
   "mimetype": "text/x-python",
   "name": "python",
   "nbconvert_exporter": "python",
   "pygments_lexer": "ipython3",
   "version": "3.10.12"
  }
 },
 "nbformat": 4,
 "nbformat_minor": 5
}
