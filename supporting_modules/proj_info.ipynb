{
 "cells": [
  {
   "cell_type": "code",
   "execution_count": 1,
   "id": "804af6f2-8594-42dd-b9da-9ca192ba88f3",
   "metadata": {},
   "outputs": [],
   "source": [
    "import sys\n",
    "import sklearn\n",
    "import numpy\n",
    "import matplotlib\n",
    "import nltk\n",
    "import spacy\n",
    "import pandas\n",
    "import seaborn"
   ]
  },
  {
   "cell_type": "code",
   "execution_count": 2,
   "id": "29fff0ca-b052-4214-a984-9995a088dfbe",
   "metadata": {},
   "outputs": [
    {
     "name": "stdout",
     "output_type": "stream",
     "text": [
      "Python version: 3.10.12 (main, Jun 11 2023, 05:26:28) [GCC 11.4.0]\n",
      "scikit-learn version: 1.3.0\n",
      "numpy version: 1.25.2\n",
      "matplotlib version: 3.7.2\n",
      "nltk version: 3.8.1\n",
      "spacy version: 3.6.1\n",
      "pandas version: 2.1.0\n",
      "seaborn version: 0.12.2\n"
     ]
    }
   ],
   "source": [
    "print(f\"Python version: {sys.version}\")\n",
    "print(f\"scikit-learn version: {sklearn.__version__}\")\n",
    "print(f\"numpy version: {numpy.__version__}\")\n",
    "print(f\"matplotlib version: {matplotlib.__version__}\")\n",
    "print(f\"nltk version: {nltk.__version__}\")\n",
    "print(f\"spacy version: {spacy.__version__}\")\n",
    "print(f\"pandas version: {pandas.__version__}\")\n",
    "print(f\"seaborn version: {seaborn.__version__}\")"
   ]
  }
 ],
 "metadata": {
  "kernelspec": {
   "display_name": "Python 3 (ipykernel)",
   "language": "python",
   "name": "python3"
  },
  "language_info": {
   "codemirror_mode": {
    "name": "ipython",
    "version": 3
   },
   "file_extension": ".py",
   "mimetype": "text/x-python",
   "name": "python",
   "nbconvert_exporter": "python",
   "pygments_lexer": "ipython3",
   "version": "3.10.12"
  }
 },
 "nbformat": 4,
 "nbformat_minor": 5
}
